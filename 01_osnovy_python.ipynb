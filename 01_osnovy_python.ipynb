{
 "cells": [
  {
   "cell_type": "markdown",
   "metadata": {},
   "source": [
    "# Задание 1"
   ]
  },
  {
   "cell_type": "code",
   "execution_count": 1,
   "metadata": {},
   "outputs": [
    {
     "name": "stdout",
     "output_type": "stream",
     "text": [
      "Фраза 1 длиннее фразы 2\n"
     ]
    }
   ],
   "source": [
    "phrase_1 = 'Насколько проще было бы писать программы, если бы не заказчики'\n",
    "phrase_2 = '640Кб должно хватить для любых задач. Билл Гейтс (по легенде)'\n",
    "if len(phrase_1) > len(phrase_2):\n",
    "    print('Фраза 1 длиннее фразы 2')\n",
    "elif len(phrase_2) > len(phrase_1):\n",
    "    print('Фраза 2 длиннее фразы 1')\n",
    "else:\n",
    "    print('Фразы равной длины')"
   ]
  },
  {
   "cell_type": "code",
   "execution_count": 2,
   "metadata": {},
   "outputs": [
    {
     "name": "stdout",
     "output_type": "stream",
     "text": [
      "Фраза 2 длиннее фразы 1\n"
     ]
    }
   ],
   "source": [
    "phrase_1 = '640Кб должно хватить для любых задач. Билл Гейтс (по легенде)'\n",
    "phrase_2 = 'Насколько проще было бы писать программы, если бы не заказчики'\n",
    "if len(phrase_1) > len(phrase_2):\n",
    "    print('Фраза 1 длиннее фразы 2')\n",
    "elif len(phrase_2) > len(phrase_1):\n",
    "    print('Фраза 2 длиннее фразы 1')\n",
    "else:\n",
    "    print('Фразы равной длины')"
   ]
  },
  {
   "cell_type": "code",
   "execution_count": 3,
   "metadata": {},
   "outputs": [
    {
     "name": "stdout",
     "output_type": "stream",
     "text": [
      "Фразы равной длины\n"
     ]
    }
   ],
   "source": [
    "phrase_1 = 'Насколько проще было бы писать программы, если бы не заказчики'\n",
    "phrase_2 = 'Насколько проще было бы писать программы, если бы не заказчики'\n",
    "if len(phrase_1) > len(phrase_2):\n",
    "    print('Фраза 1 длиннее фразы 2')\n",
    "elif len(phrase_2) > len(phrase_1):\n",
    "    print('Фраза 2 длиннее фразы 1')\n",
    "else:\n",
    "    print('Фразы равной длины')"
   ]
  },
  {
   "cell_type": "markdown",
   "metadata": {},
   "source": [
    "# Задание 2"
   ]
  },
  {
   "cell_type": "code",
   "execution_count": 4,
   "metadata": {},
   "outputs": [
    {
     "name": "stdout",
     "output_type": "stream",
     "text": [
      "Високосный год\n"
     ]
    }
   ],
   "source": [
    "year = 2020\n",
    "if year%4==0 and year%100!=0:\n",
    "    print('Високосный год')\n",
    "elif year%400==0:\n",
    "    print('Високосный год')\n",
    "else:\n",
    "    print('Обычный год')"
   ]
  },
  {
   "cell_type": "code",
   "execution_count": null,
   "metadata": {},
   "outputs": [],
   "source": [
    "year = 2019\n",
    "if year%4==0 and year%100!=0:\n",
    "    print('Високосный год')\n",
    "elif year%400==0:\n",
    "    print('Високосный год')\n",
    "else:\n",
    "    print('Обычный год')"
   ]
  },
  {
   "cell_type": "markdown",
   "metadata": {},
   "source": [
    "# Задание 3"
   ]
  },
  {
   "cell_type": "code",
   "execution_count": 13,
   "metadata": {},
   "outputs": [
    {
     "name": "stdout",
     "output_type": "stream",
     "text": [
      "Введите день: 28\n",
      "Введите месяц: Август\n",
      "Ваш знак зодиака: Дева\n"
     ]
    }
   ],
   "source": [
    "day = int(input('Введите день: '))\n",
    "#30\n",
    "\n",
    "month = input('Введите месяц: ')\n",
    "#Август\n",
    "\n",
    "if month == 'Январь':\n",
    "    if 1 <= day <= 20:\n",
    "        zodiac = 'Козерог'\n",
    "    else:\n",
    "        zodiac = 'Водолей'\n",
    "elif month == 'Февраль':\n",
    "    if 1 <= day <= 18:\n",
    "        zodiac = 'Водолей'\n",
    "    else:\n",
    "        zodiac = 'Рыбы'\n",
    "elif month == 'Март':\n",
    "    if 1 <= day <= 20:\n",
    "        zodiac = 'Рыбы'\n",
    "    else:\n",
    "        zodiac = 'Овен'\n",
    "elif month == 'Апрель':\n",
    "    if 1 <= day <= 20:\n",
    "        zodiac = 'Овен'\n",
    "    else:\n",
    "        zodiac = 'Телец'\n",
    "elif month == 'Май':\n",
    "    if 1 <= day <= 21:\n",
    "        zodiac = 'Телец'\n",
    "    else:\n",
    "        zodiac = 'Близнецы'\n",
    "elif month == 'Июнь':\n",
    "    if 1 <= day <= 21:\n",
    "        zodiac = 'Близнецы'\n",
    "    else:\n",
    "        zodiac = 'Рак'\n",
    "elif month == 'Июль':\n",
    "    if 1 <= day <= 22:\n",
    "        zodiac = 'Рак'\n",
    "    else:\n",
    "        zodiac = 'Лев'\n",
    "elif month == 'Август':\n",
    "    if 1 <= day <= 23:\n",
    "        zodiac = 'Лев'\n",
    "    else:\n",
    "        zodiac = 'Дева'\n",
    "elif month == 'Сентябрь':\n",
    "    if 1 <= day <= 22:\n",
    "        zodiac = 'Дева'\n",
    "    else:\n",
    "        zodiac = 'Весы'\n",
    "elif month == 'Октябрь':\n",
    "    if 1 <= day <= 23:\n",
    "        zodiac = 'Весы'\n",
    "    else:\n",
    "        zodiac = 'Скорпион'\n",
    "elif month == 'Ноябрь':\n",
    "    if 1 <= day <= 22:\n",
    "        zodiac = 'Скорпион'\n",
    "    else:\n",
    "        zodiac = 'Стрелец'\n",
    "elif month == 'Декабрь':\n",
    "    if 1 <= day <= 21:\n",
    "        zodiac = 'Стрелец'\n",
    "    else:\n",
    "        zodiac = 'Козерог'\n",
    "print('Ваш знак зодиака: '+ zodiac)"
   ]
  },
  {
   "cell_type": "markdown",
   "metadata": {},
   "source": [
    "# Задание 4"
   ]
  },
  {
   "cell_type": "code",
   "execution_count": 15,
   "metadata": {},
   "outputs": [
    {
     "name": "stdout",
     "output_type": "stream",
     "text": [
      "Стандартная коробка №3\n"
     ]
    }
   ],
   "source": [
    "width = 15\n",
    "length = 50\n",
    "height = 15\n",
    "\n",
    "if width <=15 and length <= 15 and height <= 15:\n",
    "    print('Коробка №1')\n",
    "elif (15 < width < 50 or 15 < length < 50 or 15 < height < 50) and length < 200:\n",
    "    print('Коробка №2')\n",
    "elif length >= 200:\n",
    "    print('Упаковка для лыж')\n",
    "else:\n",
    "    print('Стандартная коробка №3')"
   ]
  },
  {
   "cell_type": "code",
   "execution_count": 18,
   "metadata": {},
   "outputs": [
    {
     "name": "stdout",
     "output_type": "stream",
     "text": [
      "Упаковка для лыж\n"
     ]
    }
   ],
   "source": [
    "width = 45\n",
    "length = 205\n",
    "height = 45\n",
    "\n",
    "if width <=15 and length <= 15 and height <= 15:\n",
    "    print('Коробка №1')\n",
    "elif (15 < width < 50 or 15 < length < 50 or 15 < height < 50) and length < 200:\n",
    "    print('Коробка №2')\n",
    "elif length >= 200:\n",
    "    print('Упаковка для лыж')\n",
    "else:\n",
    "    print('Стандартная коробка №3')"
   ]
  },
  {
   "cell_type": "markdown",
   "metadata": {},
   "source": [
    "# Задание 5"
   ]
  },
  {
   "cell_type": "code",
   "execution_count": 35,
   "metadata": {},
   "outputs": [
    {
     "name": "stdout",
     "output_type": "stream",
     "text": [
      "Несчастливый билет\n"
     ]
    }
   ],
   "source": [
    "number = 123456\n",
    "\n",
    "number_list = [int(item) for item in str(number)]\n",
    "a = number_list[:3]\n",
    "b = number_list[3:]\n",
    "if sum(a) == sum(b):\n",
    "    print('Счастливый билет')\n",
    "else:\n",
    "    print('Несчастливый билет')"
   ]
  },
  {
   "cell_type": "code",
   "execution_count": 36,
   "metadata": {},
   "outputs": [
    {
     "name": "stdout",
     "output_type": "stream",
     "text": [
      "Счастливый билет\n"
     ]
    }
   ],
   "source": [
    "number = 123321\n",
    "\n",
    "number_list = [int(item) for item in str(number)]\n",
    "a = number_list[:3]\n",
    "b = number_list[3:]\n",
    "if sum(a) == sum(b):\n",
    "    print('Счастливый билет')\n",
    "else:\n",
    "    print('Несчастливый билет')"
   ]
  },
  {
   "cell_type": "markdown",
   "metadata": {},
   "source": [
    "# Задание 6"
   ]
  },
  {
   "cell_type": "code",
   "execution_count": 42,
   "metadata": {},
   "outputs": [
    {
     "name": "stdout",
     "output_type": "stream",
     "text": [
      "Введите тип фигуры: Прямоугольник\n",
      "Введите длину стороны A: 3\n",
      "Введите длину стороны B: 4\n",
      "Площадь прямоугольника: 24\n"
     ]
    }
   ],
   "source": [
    "import math\n",
    "\n",
    "figure_type = input('Введите тип фигуры: ')\n",
    "if figure_type == 'Круг':\n",
    "    radius = int(input('Введите радиус круга: '))\n",
    "    s = round(math.pi * radius ** 2, 2)\n",
    "    print('Площадь круга: '+str(S))\n",
    "elif figure_type == 'Треугольник':\n",
    "    a = int(input('Введите длину стороны A: '))\n",
    "    b = int(input('Введите длину стороны B: '))\n",
    "    c = int(input('Введите длину стороны C: '))\n",
    "    s = round(a * b * c, 2)\n",
    "    print('Площадь треугольника: ' +str(s))\n",
    "else:\n",
    "    a = int(input('Введите длину стороны A: '))\n",
    "    b = int(input('Введите длину стороны B: '))\n",
    "    s = round(a * b * 2, 2)\n",
    "    print('Площадь прямоугольника: ' +str(s))"
   ]
  },
  {
   "cell_type": "code",
   "execution_count": null,
   "metadata": {},
   "outputs": [],
   "source": []
  }
 ],
 "metadata": {
  "kernelspec": {
   "display_name": "Python 3",
   "language": "python",
   "name": "python3"
  },
  "language_info": {
   "codemirror_mode": {
    "name": "ipython",
    "version": 3
   },
   "file_extension": ".py",
   "mimetype": "text/x-python",
   "name": "python",
   "nbconvert_exporter": "python",
   "pygments_lexer": "ipython3",
   "version": "3.7.6"
  }
 },
 "nbformat": 4,
 "nbformat_minor": 4
}
