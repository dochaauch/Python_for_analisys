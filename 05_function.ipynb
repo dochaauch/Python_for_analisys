{
 "cells": [
  {
   "cell_type": "code",
   "execution_count": 452,
   "metadata": {},
   "outputs": [],
   "source": [
    "documents = [\n",
    " {'type': 'passport', 'number': '2207 876234', 'name': 'Василий Гупкин'},\n",
    " {'type': 'invoice', 'number': '11-2', 'name': 'Геннадий Покемонов'},\n",
    " {'type': 'insurance', 'number': '10006', 'name': 'Аристарх Павлов'}\n",
    "]"
   ]
  },
  {
   "cell_type": "code",
   "execution_count": 453,
   "metadata": {},
   "outputs": [],
   "source": [
    "directories = {\n",
    " '1': ['2207 876234', '11-2'],\n",
    " '2': ['10006'],\n",
    " '3': []\n",
    "}"
   ]
  },
  {
   "cell_type": "code",
   "execution_count": 454,
   "metadata": {},
   "outputs": [],
   "source": [
    "def input_doc():\n",
    "    num = input('Введите номер документа: ')\n",
    "    return num"
   ]
  },
  {
   "cell_type": "code",
   "execution_count": 455,
   "metadata": {},
   "outputs": [],
   "source": [
    "def input_num_dir():\n",
    "    num_dir = input('Введите номер полки: ')\n",
    "    return num_dir"
   ]
  },
  {
   "cell_type": "code",
   "execution_count": 456,
   "metadata": {},
   "outputs": [],
   "source": [
    "def number_owner(num):\n",
    "    for d in documents:\n",
    "        if num == d['number']:\n",
    "            return d"
   ]
  },
  {
   "cell_type": "code",
   "execution_count": 457,
   "metadata": {},
   "outputs": [],
   "source": [
    "def number_directories(num):\n",
    "    for k, v in directories.items():\n",
    "        if num in v:\n",
    "            output = f'Документ хранится на полке: {k}'\n",
    "            return output, k"
   ]
  },
  {
   "cell_type": "code",
   "execution_count": 458,
   "metadata": {},
   "outputs": [],
   "source": [
    "def doc_not_found():\n",
    "    output = 'Документ не найден в базе'\n",
    "    return output \n"
   ]
  },
  {
   "cell_type": "code",
   "execution_count": 459,
   "metadata": {},
   "outputs": [],
   "source": [
    "def add_dir(num_dir):\n",
    "    if num_dir not in directories.keys():\n",
    "        directories[num_dir] = []\n",
    "        output = f\"\"\"Полка добавлена. Текущий перечень полок: {\" \".join(str(key) for key in directories.keys())}\"\"\"\n",
    "    else:\n",
    "        output = f\"\"\"Такая полка уже существует. Текущий перечень полок: {\" \".join(str(key) for key in directories.keys())}\"\"\"\n",
    "    return output\n"
   ]
  },
  {
   "cell_type": "code",
   "execution_count": 460,
   "metadata": {},
   "outputs": [],
   "source": [
    "def del_dir(num_dir):\n",
    "    if num_dir not in directories.keys():\n",
    "        output = f\"\"\"Такой полки не существует. Текущий перечень полок: {\" \".join(str(key) for key in directories.keys())}\"\"\"\n",
    "    else:\n",
    "        if directories.get(num_dir) != []:\n",
    "            output = f\"\"\"На полке есть документа, удалите их перед удалением полки. Текущий перечень полок: {\" \".join(str(key) for key in directories.keys())}\"\"\"\n",
    "        else:\n",
    "            del directories[num_dir]\n",
    "            output = f\"\"\"Полка удалена. Текущий перечень полок: {\" \".join(str(key) for key in directories.keys())}\"\"\"\n",
    "    return output\n"
   ]
  },
  {
   "cell_type": "code",
   "execution_count": 461,
   "metadata": {},
   "outputs": [],
   "source": [
    "def add_doc():\n",
    "    num_doc = input_doc()\n",
    "    type_doc = input('Введите тип документа: ')\n",
    "    owner = input('Введите владельца документа: ')\n",
    "    dir_doc = input('Введите полку для хранения: ')\n",
    "    \n",
    "    if dir_doc in directories:\n",
    "        documents.append({'type': type_doc, 'number': num_doc, 'name': owner})\n",
    "        directories[dir_doc] = directories.get(dir_doc)+[num_doc]\n",
    "        output = 'Документ добавлен. Текущий список документов:'\n",
    "    else:\n",
    "        output = f\"\"\"Такой полки не существует. Добавьте полку командой as.\\nТекущий список документов:\"\"\"\n",
    "    return output"
   ]
  },
  {
   "cell_type": "code",
   "execution_count": 462,
   "metadata": {},
   "outputs": [],
   "source": [
    "def del_doc():\n",
    "    num_doc = input_doc()\n",
    "    d = number_owner(num_doc)\n",
    "    if d is None:\n",
    "        output = 'Документ не найден в базе.\\nТекущий список документов:'\n",
    "    else:\n",
    "        documents.pop(documents.index(d))\n",
    "        txt, doc_dir = number_directories(num_doc)\n",
    "        del directories.get(doc_dir)[directories.get(doc_dir).index(num_doc)]\n",
    "        output = 'Документ удален. Текущий список документов:'\n",
    "    return output"
   ]
  },
  {
   "cell_type": "code",
   "execution_count": 463,
   "metadata": {},
   "outputs": [],
   "source": [
    "def all_info():\n",
    "    for d in documents:\n",
    "        k, direct = number_directories(d.get('number'))\n",
    "        print(f\"\"\"№ {d.get('number')}, тип: {d.get('type')}, владелец: {d.get('name')}, полка хранения: {direct}\"\"\")\n",
    "    return\n"
   ]
  },
  {
   "cell_type": "code",
   "execution_count": 464,
   "metadata": {},
   "outputs": [],
   "source": [
    "def move_doc():\n",
    "    num_doc = input_doc()\n",
    "    dir_doc = input_num_dir()\n",
    "    d = number_owner(num_doc)\n",
    "    if d is None:\n",
    "        output = 'Документ не найден в базе.\\nТекущий список документов:'\n",
    "    elif d is not None and dir_doc in directories.keys():\n",
    "        txt, old_dir = number_directories(num_doc)\n",
    "        del directories.get(old_dir)[directories.get(old_dir).index(num_doc)]\n",
    "        directories[dir_doc] = directories.get(dir_doc)+[num_doc]\n",
    "        output = 'Документ перемещен.\\nТекущий список документов:' \n",
    "    else:\n",
    "        output = f\"\"\"Такой полки не существует. Текущий перечень полок: {\" \".join(str(key) for key in directories.keys())}.\"\"\"\n",
    "    return output\n"
   ]
  },
  {
   "cell_type": "code",
   "execution_count": 465,
   "metadata": {},
   "outputs": [
    {
     "name": "stdout",
     "output_type": "stream",
     "text": [
      "Введите команду: m\n",
      "Введите номер документа: 10006\n",
      "Введите номер полки: 3\n",
      "Документ перемещен.\n",
      "Текущий список документов:\n",
      "№ 2207 876234, тип: passport, владелец: Василий Гупкин, полка хранения: 1\n",
      "№ 11-2, тип: invoice, владелец: Геннадий Покемонов, полка хранения: 1\n",
      "№ 10006, тип: insurance, владелец: Аристарх Павлов, полка хранения: 3\n",
      "Введите команду: d\n",
      "Введите номер документа: 10006\n",
      "Документ удален. Текущий список документов:\n",
      "№ 2207 876234, тип: passport, владелец: Василий Гупкин, полка хранения: 1\n",
      "№ 11-2, тип: invoice, владелец: Геннадий Покемонов, полка хранения: 1\n",
      "Введите команду: q\n"
     ]
    }
   ],
   "source": [
    "def main(docs, dirs):\n",
    "    while True:\n",
    "        command = input('Введите команду: ' )\n",
    "\n",
    "        if command == 'p':\n",
    "            num_ = input_doc()\n",
    "            if number_owner(num_) == None:\n",
    "                print(doc_not_found())\n",
    "            else:\n",
    "                print(number_owner(num_)['name'])\n",
    "\n",
    "        elif command == 's':\n",
    "            num_ = input_doc()\n",
    "            output, k = number_directories(num_)\n",
    "            if output == None:\n",
    "                print(doc_not_found())\n",
    "            else:\n",
    "                print(output)\n",
    "\n",
    "        elif command == 'l':\n",
    "            all_info()\n",
    "\n",
    "        elif command == 'as':\n",
    "            print(add_dir(input_num_dir()))\n",
    "\n",
    "        elif command == 'ds':\n",
    "            num_ = input_num_dir()\n",
    "            print(del_dir(num_))\n",
    "        \n",
    "        elif command == 'ad':\n",
    "            print(add_doc())\n",
    "            all_info()\n",
    "        \n",
    "        elif command == 'd':\n",
    "            print(del_doc())\n",
    "            all_info()\n",
    "            \n",
    "        \n",
    "        elif command == 'm':\n",
    "            print(move_doc())\n",
    "            all_info()\n",
    "\n",
    "\n",
    "        elif command == 'q':\n",
    "            break\n",
    "        \n",
    "main(documents, directories)"
   ]
  },
  {
   "cell_type": "code",
   "execution_count": 466,
   "metadata": {},
   "outputs": [
    {
     "data": {
      "text/plain": [
       "{'1': ['2207 876234', '11-2'], '2': [], '3': []}"
      ]
     },
     "execution_count": 466,
     "metadata": {},
     "output_type": "execute_result"
    }
   ],
   "source": [
    "directories"
   ]
  },
  {
   "cell_type": "code",
   "execution_count": 467,
   "metadata": {},
   "outputs": [
    {
     "data": {
      "text/plain": [
       "[{'type': 'passport', 'number': '2207 876234', 'name': 'Василий Гупкин'},\n",
       " {'type': 'invoice', 'number': '11-2', 'name': 'Геннадий Покемонов'}]"
      ]
     },
     "execution_count": 467,
     "metadata": {},
     "output_type": "execute_result"
    }
   ],
   "source": [
    "documents"
   ]
  },
  {
   "cell_type": "code",
   "execution_count": null,
   "metadata": {},
   "outputs": [],
   "source": []
  }
 ],
 "metadata": {
  "kernelspec": {
   "display_name": "Python 3",
   "language": "python",
   "name": "python3"
  },
  "language_info": {
   "codemirror_mode": {
    "name": "ipython",
    "version": 3
   },
   "file_extension": ".py",
   "mimetype": "text/x-python",
   "name": "python",
   "nbconvert_exporter": "python",
   "pygments_lexer": "ipython3",
   "version": "3.7.6"
  }
 },
 "nbformat": 4,
 "nbformat_minor": 4
}
