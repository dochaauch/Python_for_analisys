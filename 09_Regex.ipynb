{
 "cells": [
  {
   "cell_type": "code",
   "execution_count": 1,
   "metadata": {},
   "outputs": [],
   "source": [
    "import re"
   ]
  },
  {
   "cell_type": "markdown",
   "metadata": {},
   "source": [
    "# Задание 1"
   ]
  },
  {
   "cell_type": "code",
   "execution_count": 16,
   "metadata": {},
   "outputs": [
    {
     "name": "stdout",
     "output_type": "stream",
     "text": [
      "Номер A222BC валиден. Регион: 96\n"
     ]
    }
   ],
   "source": [
    "car_id = 'A222BC96'\n",
    "answer = re.search(r'([A-Z]\\d{3}[A-Z]{2})(\\d{2,3})', car_id)\n",
    "if answer is not None:\n",
    "    print(f'Номер {answer.group(1)} валиден. Регион: {answer.group(2)}')\n",
    "else:\n",
    "    print('Номер не валиден')"
   ]
  },
  {
   "cell_type": "code",
   "execution_count": 17,
   "metadata": {},
   "outputs": [
    {
     "name": "stdout",
     "output_type": "stream",
     "text": [
      "Номер не валиден\n"
     ]
    }
   ],
   "source": [
    "car_id = 'АБ22ВВ193'\n",
    "answer = re.search(r'([A-Z]\\d{3}[A-Z]{2})(\\d{2,3})', car_id)\n",
    "if answer is not None:\n",
    "    print(f'Номер {answer.group(1)} валиден. Регион: {answer.group(2)}')\n",
    "else:\n",
    "    print('Номер не валиден')"
   ]
  },
  {
   "cell_type": "markdown",
   "metadata": {},
   "source": [
    "# Задание 2"
   ]
  },
  {
   "cell_type": "code",
   "execution_count": 72,
   "metadata": {},
   "outputs": [
    {
     "name": "stdout",
     "output_type": "stream",
     "text": [
      "Напишите функцию, которая будет удалять все последовательные повторы слов из заданной строки при помощи регулярных выражений.\n"
     ]
    }
   ],
   "source": [
    "some_string = 'Напишите функцию функцию, которая будет будет будет будет удалять все все все все последовательные повторы слов из из из из заданной строки строки при помощи регулярных выражений.'\n",
    "new_string = re.sub(r'\\b(\\w+)(\\s+\\1)+\\b', r'\\1', some_string)\n",
    "print(new_string)"
   ]
  },
  {
   "cell_type": "markdown",
   "metadata": {},
   "source": [
    "# Задание 3"
   ]
  },
  {
   "cell_type": "code",
   "execution_count": 43,
   "metadata": {},
   "outputs": [
    {
     "name": "stdout",
     "output_type": "stream",
     "text": [
      "ИТ\n"
     ]
    }
   ],
   "source": [
    "#ИТ\n",
    "some_words = 'Информационные технологии'\n",
    "answer = re.findall(r'\\b\\w', some_words)\n",
    "print(''.join(answer).upper())"
   ]
  },
  {
   "cell_type": "code",
   "execution_count": 45,
   "metadata": {},
   "outputs": [
    {
     "name": "stdout",
     "output_type": "stream",
     "text": [
      "NFC\n"
     ]
    }
   ],
   "source": [
    "some_words = 'Near Field Communication'\n",
    "answer = re.findall(r'\\b\\w', some_words)\n",
    "print(''.join(answer).upper())"
   ]
  },
  {
   "cell_type": "markdown",
   "metadata": {},
   "source": [
    "# Задание 4"
   ]
  },
  {
   "cell_type": "code",
   "execution_count": 61,
   "metadata": {},
   "outputs": [
    {
     "name": "stdout",
     "output_type": "stream",
     "text": [
      "gmail.com: 2\n",
      "test.in: 1\n",
      "ya.ru: 2\n",
      "mail.ru: 1\n"
     ]
    }
   ],
   "source": [
    "emails = ['test@gmail.com', 'xyz@test.in', 'test@ya.ru', 'xyz@mail.ru', 'xyz@ya.ru', 'xyz@gmail.com']\n",
    "pattern = r'\\w+@(\\w+\\.\\w+)'\n",
    "domain_list = re.findall(pattern, ', '.join(emails))\n",
    "cnt_dic = {}\n",
    "for domain in domain_list:\n",
    "    cnt_dic[domain] = cnt_dic.get(domain, 0) + 1\n",
    "for k, v in cnt_dic.items():\n",
    "    print(f'{k}: {v}')"
   ]
  },
  {
   "cell_type": "markdown",
   "metadata": {},
   "source": [
    "# Задание 5"
   ]
  },
  {
   "cell_type": "code",
   "execution_count": 69,
   "metadata": {},
   "outputs": [
    {
     "name": "stdout",
     "output_type": "stream",
     "text": [
      "Слов на гласные буквы: 9\n",
      "Слов на согласные буквы: 21\n"
     ]
    }
   ],
   "source": [
    "some_text = 'Эталонной реализацией Python является интерпретатор CPython, поддерживающий большинство активно используемых платформ. Он распространяется под свободной лицензией Python Software Foundation License, позволяющей использовать его без ограничений в любых приложениях, включая проприетарные.'\n",
    "vowels = ['a','e','i','o','u','а', 'е', 'ё','и','о','у','ы','э','ю','я']\n",
    "frst = re.findall(r'\\b(\\w)', some_text.lower())\n",
    "vowels_cnt = 0\n",
    "unvowels_cnt = 0\n",
    "for f in frst:\n",
    "    if f in vowels:\n",
    "        vowels_cnt += 1\n",
    "    else:\n",
    "        unvowels_cnt += 1\n",
    "print(f'Слов на гласные буквы: {vowels_cnt}\\nСлов на согласные буквы: {unvowels_cnt}')"
   ]
  },
  {
   "cell_type": "markdown",
   "metadata": {},
   "source": [
    "# Задание 6"
   ]
  },
  {
   "cell_type": "code",
   "execution_count": 116,
   "metadata": {},
   "outputs": [
    {
     "name": "stdout",
     "output_type": "stream",
     "text": [
      "+7-950-555-55-55\n"
     ]
    }
   ],
   "source": [
    "#phone = '423-555-55-5555'\n",
    "#phone = '123-456-789'\n",
    "\n",
    "\n",
    "#phone = '8(955)555-55-55'\n",
    "#phone = '+7 955 555 55 55'\n",
    "#phone = '7(955) 555-55-55'\n",
    "\n",
    "\n",
    "phone = '+7 955 555-55-55'\n",
    "pat = r'\\+?[7-8]\\s*\\(*\\s*(955)\\s*\\)*\\s*(\\d{3})[\\s-](\\d{2})[\\s-](\\d{2})'\n",
    "pattern = re.search(pat,phone)\n",
    "if pattern is not None:\n",
    "    answer = re.sub(pat, r'+7-950-\\2-\\3-\\4', phone)\n",
    "    print(answer)\n",
    "else:\n",
    "    print('Номер не валиден')"
   ]
  },
  {
   "cell_type": "code",
   "execution_count": null,
   "metadata": {},
   "outputs": [],
   "source": []
  }
 ],
 "metadata": {
  "kernelspec": {
   "display_name": "Python 3",
   "language": "python",
   "name": "python3"
  },
  "language_info": {
   "codemirror_mode": {
    "name": "ipython",
    "version": 3
   },
   "file_extension": ".py",
   "mimetype": "text/x-python",
   "name": "python",
   "nbconvert_exporter": "python",
   "pygments_lexer": "ipython3",
   "version": "3.8.5"
  }
 },
 "nbformat": 4,
 "nbformat_minor": 4
}
