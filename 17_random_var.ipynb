{
 "cells": [
  {
   "cell_type": "code",
   "execution_count": 1,
   "metadata": {},
   "outputs": [],
   "source": [
    "import numpy as np"
   ]
  },
  {
   "cell_type": "code",
   "execution_count": 99,
   "metadata": {},
   "outputs": [
    {
     "name": "stdout",
     "output_type": "stream",
     "text": [
      "1000000 -204533 -0.204533\n"
     ]
    }
   ],
   "source": [
    "trials = 1_000_000    # Количество попыток\n",
    "bilanss = 0 #баланс\n",
    "def add_win(random_score):\n",
    "    list_7 = ['177', '277', '377', '477', '577', '677', '777', '877', '977']\n",
    "    win = 0\n",
    "    if random_score == '777':\n",
    "        win = 200\n",
    "    if random_score == '999':\n",
    "        win = 100\n",
    "    if random_score == '555':\n",
    "        win = 50\n",
    "    if random_score == '333':\n",
    "        win = 15\n",
    "    if random_score == '111':\n",
    "        win = 10\n",
    "    if (random_score != '777') and (random_score.endswith('77')):\n",
    "        win = 5\n",
    "    if (random_score not in  list_7) and (random_score.endswith('7')):\n",
    "        win = 3\n",
    "    if int(random_score)%10 == 0 and int(random_score)%100 == 0:\n",
    "        win = 2\n",
    "    if int(random_score)%10 == 0 and int(random_score)%100 != 0:\n",
    "        win = 1\n",
    "    return win\n",
    "        \n",
    "\n",
    "for i in range(trials):\n",
    "    bilanss = bilanss - 1 #снимаем рубль за игру\n",
    "    random_score = np.random.randint(0, 1000)\n",
    "    random_score = f'{random_score:03}'\n",
    "    win_win = add_win(random_score) # рассчитываем выигрыш\n",
    "    bilanss = bilanss + win_win\n",
    "    \n",
    "    #print(random_score, win_win, bilanss)\n",
    "mean_result = bilanss / trials   #средний выигрыш за игру\n",
    "print(trials, bilanss, mean_result)"
   ]
  },
  {
   "cell_type": "code",
   "execution_count": 114,
   "metadata": {},
   "outputs": [
    {
     "data": {
      "text/plain": [
       "0.775"
      ]
     },
     "execution_count": 114,
     "metadata": {},
     "output_type": "execute_result"
    }
   ],
   "source": [
    "#расчет математического ожидания. сумма выигрыша за игру\n",
    "p_77 = 5 * 10 / 1000 - 200 * 1 / 1000\n",
    "p_7 = 3 * 100 / 1000 - p_77\n",
    "p_00 = 2 * 10 / 1000\n",
    "p_0 = 1 * 100 / 1000 - p_00\n",
    "p_monte_carlo = 200 * 1 / 1000 + 100 * 1 / 1000 + 50 * 1 / 1000 + 15 * 1 / 1000 + 10 * 1 / 1000 + p_77 + p_7 + p_00 + p_0\n",
    "p_monte_carlo"
   ]
  },
  {
   "cell_type": "code",
   "execution_count": 113,
   "metadata": {},
   "outputs": [
    {
     "data": {
      "text/plain": [
       "-225000.0"
      ]
     },
     "execution_count": 113,
     "metadata": {},
     "output_type": "execute_result"
    }
   ],
   "source": [
    "# сумма выигрыша при заданном количестве попыток\n",
    "mean_result = p_monte_carlo * trials - trials\n",
    "mean"
   ]
  },
  {
   "cell_type": "code",
   "execution_count": 115,
   "metadata": {},
   "outputs": [
    {
     "data": {
      "text/plain": [
       "0.20500000000000002"
      ]
     },
     "execution_count": 115,
     "metadata": {},
     "output_type": "execute_result"
    }
   ],
   "source": [
    "p_77 =  10 / 1000 - 1 / 1000\n",
    "p_7 =  100 / 1000 - p_77\n",
    "p_00 =  10 / 1000\n",
    "p_0 =  100 / 1000 - p_00\n",
    "p_monte_carlo =  1 / 1000 + 1 / 1000 +  1 / 1000 +  1 / 1000 + 1 / 1000 + p_77 + p_7 + p_00 + p_0\n",
    "p_monte_carlo"
   ]
  },
  {
   "cell_type": "code",
   "execution_count": 106,
   "metadata": {},
   "outputs": [
    {
     "data": {
      "text/plain": [
       "10"
      ]
     },
     "execution_count": 106,
     "metadata": {},
     "output_type": "execute_result"
    }
   ],
   "source": []
  },
  {
   "cell_type": "code",
   "execution_count": null,
   "metadata": {},
   "outputs": [],
   "source": []
  },
  {
   "cell_type": "code",
   "execution_count": null,
   "metadata": {},
   "outputs": [],
   "source": []
  }
 ],
 "metadata": {
  "kernelspec": {
   "display_name": "Python 3",
   "language": "python",
   "name": "python3"
  },
  "language_info": {
   "codemirror_mode": {
    "name": "ipython",
    "version": 3
   },
   "file_extension": ".py",
   "mimetype": "text/x-python",
   "name": "python",
   "nbconvert_exporter": "python",
   "pygments_lexer": "ipython3",
   "version": "3.8.5"
  }
 },
 "nbformat": 4,
 "nbformat_minor": 4
}
